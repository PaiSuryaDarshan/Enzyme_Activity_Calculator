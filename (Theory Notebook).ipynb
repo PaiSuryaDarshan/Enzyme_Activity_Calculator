{
 "cells": [
  {
   "cell_type": "markdown",
   "metadata": {},
   "source": [
    "# Main (Notebook) | Theory"
   ]
  },
  {
   "cell_type": "markdown",
   "metadata": {},
   "source": [
    "## 1. Bradford Assay "
   ]
  },
  {
   "cell_type": "markdown",
   "metadata": {},
   "source": [
    "![Bradford](https://cdn.prod.website-files.com/621e95f9ac30687a56e4297e/6674d8a280eba4e44453c292_V2_1718918674699_48b92fbe-a885-41d1-b66f-57f7f1cf6c3c_LOW_RES.png)"
   ]
  },
  {
   "cell_type": "markdown",
   "metadata": {},
   "source": [
    "### Step 1: Make calibration curve.\n",
    "\n",
    "\n",
    "\n",
    "### Step 2: Get Line Equation. \n",
    "\n",
    "\n",
    "\n",
    "### Step 3: Fit unknown sample to line. \n",
    "\n",
    "\n"
   ]
  },
  {
   "cell_type": "markdown",
   "metadata": {},
   "source": []
  }
 ],
 "metadata": {
  "kernelspec": {
   "display_name": "Python 3",
   "language": "python",
   "name": "python3"
  },
  "language_info": {
   "codemirror_mode": {
    "name": "ipython",
    "version": 3
   },
   "file_extension": ".py",
   "mimetype": "text/x-python",
   "name": "python",
   "nbconvert_exporter": "python",
   "pygments_lexer": "ipython3",
   "version": "3.9.18"
  }
 },
 "nbformat": 4,
 "nbformat_minor": 2
}
